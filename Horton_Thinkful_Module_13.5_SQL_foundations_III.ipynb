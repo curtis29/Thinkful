{
 "cells": [
  {
   "cell_type": "code",
   "execution_count": 1,
   "metadata": {},
   "outputs": [
    {
     "name": "stdout",
     "output_type": "stream",
     "text": [
      "Requirement already satisfied: sqlalchemy in /anaconda3/lib/python3.7/site-packages (1.3.1)\n",
      "Requirement already satisfied: psycopg2-binary in /anaconda3/lib/python3.7/site-packages (2.8.3)\n"
     ]
    }
   ],
   "source": [
    "!pip install sqlalchemy\n",
    "!pip install psycopg2-binary"
   ]
  },
  {
   "cell_type": "code",
   "execution_count": 2,
   "metadata": {
    "scrolled": false
   },
   "outputs": [],
   "source": [
    "#export PATH=/usr/lib/postgresql/X.Y/bin/:$PATH"
   ]
  },
  {
   "cell_type": "code",
   "execution_count": 3,
   "metadata": {},
   "outputs": [],
   "source": [
    "# Import the SQL ALchemy engine\n",
    "from sqlalchemy import create_engine"
   ]
  },
  {
   "cell_type": "code",
   "execution_count": 4,
   "metadata": {},
   "outputs": [],
   "source": [
    "#Questions to complete assignment\n",
    "#How many movies are released for each rating?\n",
    "#What is the average rental duration for each rating?\n",
    "#What is the mean movie length? Calculate this by defining a function.\n",
    "#What is the median movie length? Calculate this by defining a function.\n",
    "#Calculate the standard deviation of the movie lengths. Calculate this by defining a function."
   ]
  },
  {
   "cell_type": "code",
   "execution_count": 5,
   "metadata": {},
   "outputs": [],
   "source": [
    "# Database Credentials\n",
    "\n",
    "postgres_user = 'dsbc_student'\n",
    "postgres_pw = '7*.8G9QH21'\n",
    "postgres_host = '142.93.121.174'\n",
    "postgres_port = '5432'\n",
    "postgres_db = 'dvdrentals'\n",
    "\n",
    "# use the credentials to start a connection\n",
    "engine = create_engine('postgresql://{}:{}@{}:{}/{}'.format(\n",
    "    postgres_user, postgres_pw, postgres_host, postgres_port, postgres_db))"
   ]
  },
  {
   "cell_type": "code",
   "execution_count": 6,
   "metadata": {},
   "outputs": [],
   "source": [
    "# Database credentials\n",
    "postgres_user = 'dsbc_student'\n",
    "postgres_pw = '7*.8G9QH21'\n",
    "postgres_host = '142.93.121.174'\n",
    "postgres_port = '5432'\n",
    "postgres_db = 'medicalcosts'"
   ]
  },
  {
   "cell_type": "code",
   "execution_count": 7,
   "metadata": {},
   "outputs": [
    {
     "name": "stdout",
     "output_type": "stream",
     "text": [
      "(223, 'PG-13')\n",
      "(210, 'NC-17')\n",
      "(195, 'R')\n",
      "(194, 'PG')\n",
      "(178, 'G')\n"
     ]
    }
   ],
   "source": [
    "#Q.1 - How many movies are released for each rating?\n",
    "\n",
    "sql = '''\n",
    "  SELECT COUNT(*) as count, f.rating\n",
    "  FROM film f \n",
    "  GROUP BY f.rating\n",
    "  ORDER BY count DESC\n",
    "'''\n",
    "\n",
    "results = engine.execute(sql)\n",
    "engine.dispose()\n",
    "rows = results.fetchall()\n",
    "\n",
    "# print some results just to see what we got\n",
    "for row in rows:\n",
    "  print(row)"
   ]
  },
  {
   "cell_type": "code",
   "execution_count": 8,
   "metadata": {},
   "outputs": [
    {
     "name": "stdout",
     "output_type": "stream",
     "text": [
      "(223, Decimal('5.05'), 'PG-13')\n",
      "(210, Decimal('5.14'), 'NC-17')\n",
      "(195, Decimal('4.77'), 'R')\n",
      "(194, Decimal('5.08'), 'PG')\n",
      "(178, Decimal('4.84'), 'G')\n"
     ]
    }
   ],
   "source": [
    "#Q.2 - What is the average rental duration for each rating?\n",
    "\n",
    "sql = '''\n",
    "  SELECT COUNT(*) as count, ROUND(AVG(rental_duration), 2) as avg_rent_duration, rating\n",
    "  FROM film f \n",
    "  GROUP BY rating\n",
    "  ORDER BY count DESC\n",
    "'''\n",
    "\n",
    "results = engine.execute(sql)\n",
    "engine.dispose()\n",
    "rows = results.fetchall()\n",
    "\n",
    "# print some results just to see what we got\n",
    "for row in rows:\n",
    "  print(row)\n"
   ]
  },
  {
   "cell_type": "code",
   "execution_count": 9,
   "metadata": {},
   "outputs": [
    {
     "name": "stdout",
     "output_type": "stream",
     "text": [
      "The mean movie length is 115.272\n"
     ]
    }
   ],
   "source": [
    "#Q.3 - What is the mean movie length? Calculate this by defining a function.\n",
    "\n",
    "sql = '''\n",
    "    select \n",
    "      length \n",
    "    from \n",
    "      film\n",
    "'''\n",
    "\n",
    "length = engine.execute(sql)\n",
    "engine.dispose()\n",
    "\n",
    "rows = length.fetchall()\n",
    "\n",
    "length = [x['length'] for x in rows]\n",
    "\n",
    "# A simple implementation simply iterating the array\n",
    "def mean(numbers):\n",
    "  total_sum = 0;  # initialize the sum to zero\n",
    "  for n in numbers:\n",
    "    total_sum += n # add up the numbers in the array\n",
    "  count = len(numbers)   # find the length of the array\n",
    "  avg = total_sum / count  # calculate the mean\n",
    "  return avg  # return the result\n",
    "\n",
    "print('The mean movie length is {}'.format(mean(length)))"
   ]
  },
  {
   "cell_type": "code",
   "execution_count": 10,
   "metadata": {},
   "outputs": [
    {
     "name": "stdout",
     "output_type": "stream",
     "text": [
      "The median movie length is 114.0\n"
     ]
    }
   ],
   "source": [
    "#Q.4 - What is the median movie length? Calculate this by defining a function.\n",
    "\n",
    "\n",
    "import math\n",
    "\n",
    "def median(numbers):\n",
    "  numbers.sort()  # sort the list of numbers\n",
    "  count = len(numbers) # get the length of the array\n",
    "  isEven = count % 2 == 0 # check if this list is of even length\n",
    "  \n",
    "  if (isEven):\n",
    "    # find the two numbers in the middle of the array\n",
    "    mid = math.floor( count / 2 )\n",
    "    a = numbers[mid]\n",
    "    b = numbers[mid + 1]\n",
    "    # find the average of these two numbers\n",
    "    ans = (a + b) / 2\n",
    "  else:\n",
    "    ans = numbers[math.floor( count / 2 )]\n",
    " \n",
    "  return ans\n",
    "\n",
    "print('The median movie length is {}'.format(median(length)))"
   ]
  },
  {
   "cell_type": "code",
   "execution_count": 11,
   "metadata": {},
   "outputs": [
    {
     "name": "stdout",
     "output_type": "stream",
     "text": [
      "The standard deviation of the movie lengths is 40.42633181855988\n"
     ]
    }
   ],
   "source": [
    "#Q.5 - Calculate the standard deviation of the movie lengths. Calculate this by defining a function.\n",
    "\n",
    "def standard_deviation(numbers):\n",
    "  X_bar = mean(numbers)\n",
    "  N = len(numbers)\n",
    "  total_sum = 0\n",
    "  for X in numbers:\n",
    "    diff = X - X_bar\n",
    "    squared = math.pow(diff, 2)\n",
    "    total_sum += squared\n",
    "  sigma = math.sqrt(total_sum / (N - 1))  \n",
    "  return sigma\n",
    "\n",
    "print('The standard deviation of the movie lengths is {}'.format(standard_deviation(length)))"
   ]
  }
 ],
 "metadata": {
  "kernelspec": {
   "display_name": "Python 3",
   "language": "python",
   "name": "python3"
  },
  "language_info": {
   "codemirror_mode": {
    "name": "ipython",
    "version": 3
   },
   "file_extension": ".py",
   "mimetype": "text/x-python",
   "name": "python",
   "nbconvert_exporter": "python",
   "pygments_lexer": "ipython3",
   "version": "3.7.3"
  }
 },
 "nbformat": 4,
 "nbformat_minor": 2
}
