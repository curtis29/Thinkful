{
 "cells": [
  {
   "cell_type": "code",
   "execution_count": 8,
   "metadata": {},
   "outputs": [],
   "source": [
    "import matplotlib.pyplot as plt\n",
    "import numpy as np\n",
    "import pandas as pd\n",
    "%matplotlib inline"
   ]
  },
  {
   "cell_type": "code",
   "execution_count": 9,
   "metadata": {
    "scrolled": true
   },
   "outputs": [
    {
     "data": {
      "text/html": [
       "<div>\n",
       "<style scoped>\n",
       "    .dataframe tbody tr th:only-of-type {\n",
       "        vertical-align: middle;\n",
       "    }\n",
       "\n",
       "    .dataframe tbody tr th {\n",
       "        vertical-align: top;\n",
       "    }\n",
       "\n",
       "    .dataframe thead th {\n",
       "        text-align: right;\n",
       "    }\n",
       "</style>\n",
       "<table border=\"1\" class=\"dataframe\">\n",
       "  <thead>\n",
       "    <tr style=\"text-align: right;\">\n",
       "      <th></th>\n",
       "      <th>Country Name</th>\n",
       "      <th>Country Code</th>\n",
       "      <th>Indicator Name</th>\n",
       "      <th>Indicator Code</th>\n",
       "      <th>1999</th>\n",
       "      <th>2000</th>\n",
       "      <th>2001</th>\n",
       "      <th>2002</th>\n",
       "      <th>2003</th>\n",
       "      <th>2004</th>\n",
       "      <th>...</th>\n",
       "      <th>2009</th>\n",
       "      <th>2010</th>\n",
       "      <th>2011</th>\n",
       "      <th>2012</th>\n",
       "      <th>2013</th>\n",
       "      <th>2014</th>\n",
       "      <th>2015</th>\n",
       "      <th>2016</th>\n",
       "      <th>2017</th>\n",
       "      <th>2018</th>\n",
       "    </tr>\n",
       "  </thead>\n",
       "  <tbody>\n",
       "    <tr>\n",
       "      <th>0</th>\n",
       "      <td>Aruba</td>\n",
       "      <td>ABW</td>\n",
       "      <td>Unemployment, total (% of total labor force) (...</td>\n",
       "      <td>SL.UEM.TOTL.ZS</td>\n",
       "      <td>NaN</td>\n",
       "      <td>NaN</td>\n",
       "      <td>NaN</td>\n",
       "      <td>NaN</td>\n",
       "      <td>NaN</td>\n",
       "      <td>NaN</td>\n",
       "      <td>...</td>\n",
       "      <td>NaN</td>\n",
       "      <td>NaN</td>\n",
       "      <td>NaN</td>\n",
       "      <td>NaN</td>\n",
       "      <td>NaN</td>\n",
       "      <td>NaN</td>\n",
       "      <td>NaN</td>\n",
       "      <td>NaN</td>\n",
       "      <td>NaN</td>\n",
       "      <td>NaN</td>\n",
       "    </tr>\n",
       "    <tr>\n",
       "      <th>1</th>\n",
       "      <td>Afghanistan</td>\n",
       "      <td>AFG</td>\n",
       "      <td>Unemployment, total (% of total labor force) (...</td>\n",
       "      <td>SL.UEM.TOTL.ZS</td>\n",
       "      <td>3.606000</td>\n",
       "      <td>3.517</td>\n",
       "      <td>3.426000</td>\n",
       "      <td>3.550</td>\n",
       "      <td>3.419000</td>\n",
       "      <td>3.087000</td>\n",
       "      <td>...</td>\n",
       "      <td>2.470</td>\n",
       "      <td>2.275</td>\n",
       "      <td>1.984</td>\n",
       "      <td>1.692</td>\n",
       "      <td>1.725</td>\n",
       "      <td>1.735</td>\n",
       "      <td>1.679</td>\n",
       "      <td>1.634</td>\n",
       "      <td>1.559</td>\n",
       "      <td>1.542</td>\n",
       "    </tr>\n",
       "    <tr>\n",
       "      <th>2</th>\n",
       "      <td>Angola</td>\n",
       "      <td>AGO</td>\n",
       "      <td>Unemployment, total (% of total labor force) (...</td>\n",
       "      <td>SL.UEM.TOTL.ZS</td>\n",
       "      <td>20.896999</td>\n",
       "      <td>22.885</td>\n",
       "      <td>23.115000</td>\n",
       "      <td>23.896</td>\n",
       "      <td>23.924999</td>\n",
       "      <td>23.643000</td>\n",
       "      <td>...</td>\n",
       "      <td>10.609</td>\n",
       "      <td>9.089</td>\n",
       "      <td>7.362</td>\n",
       "      <td>7.359</td>\n",
       "      <td>7.454</td>\n",
       "      <td>7.429</td>\n",
       "      <td>7.279</td>\n",
       "      <td>7.281</td>\n",
       "      <td>7.139</td>\n",
       "      <td>7.253</td>\n",
       "    </tr>\n",
       "    <tr>\n",
       "      <th>3</th>\n",
       "      <td>Albania</td>\n",
       "      <td>ALB</td>\n",
       "      <td>Unemployment, total (% of total labor force) (...</td>\n",
       "      <td>SL.UEM.TOTL.ZS</td>\n",
       "      <td>18.569000</td>\n",
       "      <td>17.767</td>\n",
       "      <td>17.410999</td>\n",
       "      <td>17.510</td>\n",
       "      <td>17.496000</td>\n",
       "      <td>17.271999</td>\n",
       "      <td>...</td>\n",
       "      <td>13.674</td>\n",
       "      <td>14.086</td>\n",
       "      <td>13.481</td>\n",
       "      <td>13.376</td>\n",
       "      <td>15.866</td>\n",
       "      <td>17.490</td>\n",
       "      <td>17.080</td>\n",
       "      <td>15.220</td>\n",
       "      <td>13.750</td>\n",
       "      <td>13.898</td>\n",
       "    </tr>\n",
       "    <tr>\n",
       "      <th>4</th>\n",
       "      <td>Andorra</td>\n",
       "      <td>AND</td>\n",
       "      <td>Unemployment, total (% of total labor force) (...</td>\n",
       "      <td>SL.UEM.TOTL.ZS</td>\n",
       "      <td>NaN</td>\n",
       "      <td>NaN</td>\n",
       "      <td>NaN</td>\n",
       "      <td>NaN</td>\n",
       "      <td>NaN</td>\n",
       "      <td>NaN</td>\n",
       "      <td>...</td>\n",
       "      <td>NaN</td>\n",
       "      <td>NaN</td>\n",
       "      <td>NaN</td>\n",
       "      <td>NaN</td>\n",
       "      <td>NaN</td>\n",
       "      <td>NaN</td>\n",
       "      <td>NaN</td>\n",
       "      <td>NaN</td>\n",
       "      <td>NaN</td>\n",
       "      <td>NaN</td>\n",
       "    </tr>\n",
       "  </tbody>\n",
       "</table>\n",
       "<p>5 rows × 24 columns</p>\n",
       "</div>"
      ],
      "text/plain": [
       "  Country Name Country Code  \\\n",
       "0        Aruba          ABW   \n",
       "1  Afghanistan          AFG   \n",
       "2       Angola          AGO   \n",
       "3      Albania          ALB   \n",
       "4      Andorra          AND   \n",
       "\n",
       "                                      Indicator Name  Indicator Code  \\\n",
       "0  Unemployment, total (% of total labor force) (...  SL.UEM.TOTL.ZS   \n",
       "1  Unemployment, total (% of total labor force) (...  SL.UEM.TOTL.ZS   \n",
       "2  Unemployment, total (% of total labor force) (...  SL.UEM.TOTL.ZS   \n",
       "3  Unemployment, total (% of total labor force) (...  SL.UEM.TOTL.ZS   \n",
       "4  Unemployment, total (% of total labor force) (...  SL.UEM.TOTL.ZS   \n",
       "\n",
       "        1999    2000       2001    2002       2003       2004  ...    2009  \\\n",
       "0        NaN     NaN        NaN     NaN        NaN        NaN  ...     NaN   \n",
       "1   3.606000   3.517   3.426000   3.550   3.419000   3.087000  ...   2.470   \n",
       "2  20.896999  22.885  23.115000  23.896  23.924999  23.643000  ...  10.609   \n",
       "3  18.569000  17.767  17.410999  17.510  17.496000  17.271999  ...  13.674   \n",
       "4        NaN     NaN        NaN     NaN        NaN        NaN  ...     NaN   \n",
       "\n",
       "     2010    2011    2012    2013    2014    2015    2016    2017    2018  \n",
       "0     NaN     NaN     NaN     NaN     NaN     NaN     NaN     NaN     NaN  \n",
       "1   2.275   1.984   1.692   1.725   1.735   1.679   1.634   1.559   1.542  \n",
       "2   9.089   7.362   7.359   7.454   7.429   7.279   7.281   7.139   7.253  \n",
       "3  14.086  13.481  13.376  15.866  17.490  17.080  15.220  13.750  13.898  \n",
       "4     NaN     NaN     NaN     NaN     NaN     NaN     NaN     NaN     NaN  \n",
       "\n",
       "[5 rows x 24 columns]"
      ]
     },
     "execution_count": 9,
     "metadata": {},
     "output_type": "execute_result"
    }
   ],
   "source": [
    "df1 = pd.read_csv('Unemployment_rates_1999_2018.csv')\n",
    "df1.head()"
   ]
  },
  {
   "cell_type": "code",
   "execution_count": 10,
   "metadata": {},
   "outputs": [
    {
     "data": {
      "text/html": [
       "<div>\n",
       "<style scoped>\n",
       "    .dataframe tbody tr th:only-of-type {\n",
       "        vertical-align: middle;\n",
       "    }\n",
       "\n",
       "    .dataframe tbody tr th {\n",
       "        vertical-align: top;\n",
       "    }\n",
       "\n",
       "    .dataframe thead th {\n",
       "        text-align: right;\n",
       "    }\n",
       "</style>\n",
       "<table border=\"1\" class=\"dataframe\">\n",
       "  <thead>\n",
       "    <tr style=\"text-align: right;\">\n",
       "      <th></th>\n",
       "      <th>Country Name</th>\n",
       "      <th>Country Code</th>\n",
       "      <th>Indicator Name</th>\n",
       "      <th>Indicator Code</th>\n",
       "      <th>1999</th>\n",
       "      <th>2000</th>\n",
       "      <th>2001</th>\n",
       "      <th>2002</th>\n",
       "      <th>2003</th>\n",
       "      <th>2004</th>\n",
       "      <th>...</th>\n",
       "      <th>2009</th>\n",
       "      <th>2010</th>\n",
       "      <th>2011</th>\n",
       "      <th>2012</th>\n",
       "      <th>2013</th>\n",
       "      <th>2014</th>\n",
       "      <th>2015</th>\n",
       "      <th>2016</th>\n",
       "      <th>2017</th>\n",
       "      <th>2018</th>\n",
       "    </tr>\n",
       "  </thead>\n",
       "  <tbody>\n",
       "    <tr>\n",
       "      <th>259</th>\n",
       "      <td>Kosovo</td>\n",
       "      <td>XKX</td>\n",
       "      <td>Unemployment, total (% of total labor force) (...</td>\n",
       "      <td>SL.UEM.TOTL.ZS</td>\n",
       "      <td>NaN</td>\n",
       "      <td>NaN</td>\n",
       "      <td>NaN</td>\n",
       "      <td>NaN</td>\n",
       "      <td>NaN</td>\n",
       "      <td>NaN</td>\n",
       "      <td>...</td>\n",
       "      <td>NaN</td>\n",
       "      <td>NaN</td>\n",
       "      <td>NaN</td>\n",
       "      <td>NaN</td>\n",
       "      <td>NaN</td>\n",
       "      <td>NaN</td>\n",
       "      <td>NaN</td>\n",
       "      <td>NaN</td>\n",
       "      <td>NaN</td>\n",
       "      <td>NaN</td>\n",
       "    </tr>\n",
       "    <tr>\n",
       "      <th>260</th>\n",
       "      <td>Yemen, Rep.</td>\n",
       "      <td>YEM</td>\n",
       "      <td>Unemployment, total (% of total labor force) (...</td>\n",
       "      <td>SL.UEM.TOTL.ZS</td>\n",
       "      <td>11.460</td>\n",
       "      <td>11.441</td>\n",
       "      <td>11.591</td>\n",
       "      <td>11.923</td>\n",
       "      <td>11.914000</td>\n",
       "      <td>11.867</td>\n",
       "      <td>...</td>\n",
       "      <td>12.513</td>\n",
       "      <td>12.905000</td>\n",
       "      <td>13.058</td>\n",
       "      <td>13.252</td>\n",
       "      <td>13.507</td>\n",
       "      <td>13.467000</td>\n",
       "      <td>14.023</td>\n",
       "      <td>13.524000</td>\n",
       "      <td>13.175</td>\n",
       "      <td>12.934</td>\n",
       "    </tr>\n",
       "    <tr>\n",
       "      <th>261</th>\n",
       "      <td>South Africa</td>\n",
       "      <td>ZAF</td>\n",
       "      <td>Unemployment, total (% of total labor force) (...</td>\n",
       "      <td>SL.UEM.TOTL.ZS</td>\n",
       "      <td>30.202</td>\n",
       "      <td>30.229</td>\n",
       "      <td>30.896</td>\n",
       "      <td>33.473</td>\n",
       "      <td>32.456001</td>\n",
       "      <td>29.576</td>\n",
       "      <td>...</td>\n",
       "      <td>23.538</td>\n",
       "      <td>24.693001</td>\n",
       "      <td>24.653</td>\n",
       "      <td>24.732</td>\n",
       "      <td>24.569</td>\n",
       "      <td>24.898001</td>\n",
       "      <td>25.156</td>\n",
       "      <td>26.551001</td>\n",
       "      <td>27.327</td>\n",
       "      <td>26.958</td>\n",
       "    </tr>\n",
       "    <tr>\n",
       "      <th>262</th>\n",
       "      <td>Zambia</td>\n",
       "      <td>ZMB</td>\n",
       "      <td>Unemployment, total (% of total labor force) (...</td>\n",
       "      <td>SL.UEM.TOTL.ZS</td>\n",
       "      <td>12.663</td>\n",
       "      <td>12.930</td>\n",
       "      <td>13.810</td>\n",
       "      <td>14.491</td>\n",
       "      <td>14.825000</td>\n",
       "      <td>15.265</td>\n",
       "      <td>...</td>\n",
       "      <td>10.623</td>\n",
       "      <td>13.190000</td>\n",
       "      <td>10.200</td>\n",
       "      <td>7.850</td>\n",
       "      <td>7.801</td>\n",
       "      <td>7.707000</td>\n",
       "      <td>7.446</td>\n",
       "      <td>7.372000</td>\n",
       "      <td>7.206</td>\n",
       "      <td>7.209</td>\n",
       "    </tr>\n",
       "    <tr>\n",
       "      <th>263</th>\n",
       "      <td>Zimbabwe</td>\n",
       "      <td>ZWE</td>\n",
       "      <td>Unemployment, total (% of total labor force) (...</td>\n",
       "      <td>SL.UEM.TOTL.ZS</td>\n",
       "      <td>6.000</td>\n",
       "      <td>5.703</td>\n",
       "      <td>5.405</td>\n",
       "      <td>5.241</td>\n",
       "      <td>4.867000</td>\n",
       "      <td>4.390</td>\n",
       "      <td>...</td>\n",
       "      <td>5.034</td>\n",
       "      <td>5.122000</td>\n",
       "      <td>5.368</td>\n",
       "      <td>5.608</td>\n",
       "      <td>5.623</td>\n",
       "      <td>5.518000</td>\n",
       "      <td>5.438</td>\n",
       "      <td>5.239000</td>\n",
       "      <td>4.943</td>\n",
       "      <td>4.915</td>\n",
       "    </tr>\n",
       "  </tbody>\n",
       "</table>\n",
       "<p>5 rows × 24 columns</p>\n",
       "</div>"
      ],
      "text/plain": [
       "     Country Name Country Code  \\\n",
       "259        Kosovo          XKX   \n",
       "260   Yemen, Rep.          YEM   \n",
       "261  South Africa          ZAF   \n",
       "262        Zambia          ZMB   \n",
       "263      Zimbabwe          ZWE   \n",
       "\n",
       "                                        Indicator Name  Indicator Code  \\\n",
       "259  Unemployment, total (% of total labor force) (...  SL.UEM.TOTL.ZS   \n",
       "260  Unemployment, total (% of total labor force) (...  SL.UEM.TOTL.ZS   \n",
       "261  Unemployment, total (% of total labor force) (...  SL.UEM.TOTL.ZS   \n",
       "262  Unemployment, total (% of total labor force) (...  SL.UEM.TOTL.ZS   \n",
       "263  Unemployment, total (% of total labor force) (...  SL.UEM.TOTL.ZS   \n",
       "\n",
       "       1999    2000    2001    2002       2003    2004  ...    2009  \\\n",
       "259     NaN     NaN     NaN     NaN        NaN     NaN  ...     NaN   \n",
       "260  11.460  11.441  11.591  11.923  11.914000  11.867  ...  12.513   \n",
       "261  30.202  30.229  30.896  33.473  32.456001  29.576  ...  23.538   \n",
       "262  12.663  12.930  13.810  14.491  14.825000  15.265  ...  10.623   \n",
       "263   6.000   5.703   5.405   5.241   4.867000   4.390  ...   5.034   \n",
       "\n",
       "          2010    2011    2012    2013       2014    2015       2016    2017  \\\n",
       "259        NaN     NaN     NaN     NaN        NaN     NaN        NaN     NaN   \n",
       "260  12.905000  13.058  13.252  13.507  13.467000  14.023  13.524000  13.175   \n",
       "261  24.693001  24.653  24.732  24.569  24.898001  25.156  26.551001  27.327   \n",
       "262  13.190000  10.200   7.850   7.801   7.707000   7.446   7.372000   7.206   \n",
       "263   5.122000   5.368   5.608   5.623   5.518000   5.438   5.239000   4.943   \n",
       "\n",
       "       2018  \n",
       "259     NaN  \n",
       "260  12.934  \n",
       "261  26.958  \n",
       "262   7.209  \n",
       "263   4.915  \n",
       "\n",
       "[5 rows x 24 columns]"
      ]
     },
     "execution_count": 10,
     "metadata": {},
     "output_type": "execute_result"
    }
   ],
   "source": [
    "df1.tail()\n"
   ]
  },
  {
   "cell_type": "code",
   "execution_count": 11,
   "metadata": {},
   "outputs": [
    {
     "data": {
      "text/plain": [
       "0       NaN\n",
       "1     1.542\n",
       "2     7.253\n",
       "3    13.898\n",
       "4       NaN\n",
       "Name: 2018, dtype: float64"
      ]
     },
     "execution_count": 11,
     "metadata": {},
     "output_type": "execute_result"
    }
   ],
   "source": [
    "df1.iloc[:, 23].head()"
   ]
  },
  {
   "cell_type": "code",
   "execution_count": 12,
   "metadata": {},
   "outputs": [],
   "source": [
    "x_2018 = df1.iloc[:, 23]"
   ]
  },
  {
   "cell_type": "code",
   "execution_count": 14,
   "metadata": {},
   "outputs": [
    {
     "data": {
      "image/png": "[encoded data removed]",
      "text/plain": [
       "<Figure size 432x288 with 1 Axes>"
      ]
     },
     "metadata": {
      "needs_background": "light"
     },
     "output_type": "display_data"
    }
   ],
   "source": [
    "plt.hist(x_2018)\n",
    "plt.show()"
   ]
  },
  {
   "cell_type": "code",
   "execution_count": 15,
   "metadata": {},
   "outputs": [],
   "source": [
    "x_2017 = df1.iloc[:, 22]"
   ]
  },
  {
   "cell_type": "code",
   "execution_count": 16,
   "metadata": {},
   "outputs": [
    {
     "data": {
      "image/png": "[encoded data removed]",
      "text/plain": [
       "<Figure size 432x288 with 1 Axes>"
      ]
     },
     "metadata": {
      "needs_background": "light"
     },
     "output_type": "display_data"
    }
   ],
   "source": [
    "plt.hist(x_2017)\n",
    "plt.show()"
   ]
  },
  {
   "cell_type": "code",
   "execution_count": 17,
   "metadata": {},
   "outputs": [
    {
     "data": {
      "image/png": "[encoded data removed]",
      "text/plain": [
       "<Figure size 432x288 with 1 Axes>"
      ]
     },
     "metadata": {
      "needs_background": "light"
     },
     "output_type": "display_data"
    }
   ],
   "source": [
    "plt.hist(x_2017, density=True, color='blue', bins=np.arange(0, 35), alpha=.5) \n",
    "plt.hist(x_2018, density=True, color='red', bins=np.arange(0, 35), alpha=.5)\n",
    "plt.title('Normed histograms')\n",
    "plt.xlabel('Unemployment Rates')\n",
    "\n",
    "plt.show()"
   ]
  },
  {
   "cell_type": "code",
   "execution_count": 18,
   "metadata": {},
   "outputs": [
    {
     "data": {
      "text/plain": [
       "30.18199921"
      ]
     },
     "execution_count": 18,
     "metadata": {},
     "output_type": "execute_result"
    }
   ],
   "source": [
    "x_2018.max()"
   ]
  },
  {
   "cell_type": "code",
   "execution_count": 19,
   "metadata": {},
   "outputs": [
    {
     "data": {
      "text/plain": [
       "27.44400024"
      ]
     },
     "execution_count": 19,
     "metadata": {},
     "output_type": "execute_result"
    }
   ],
   "source": [
    "x_2017.max()"
   ]
  },
  {
   "cell_type": "code",
   "execution_count": 20,
   "metadata": {},
   "outputs": [
    {
     "data": {
      "image/png": "[encoded data removed]",
      "text/plain": [
       "<Figure size 720x360 with 2 Axes>"
      ]
     },
     "metadata": {
      "needs_background": "light"
     },
     "output_type": "display_data"
    }
   ],
   "source": [
    "plt.figure(figsize=(10, 5))\n",
    "\n",
    "plt.subplot(1, 2, 1)\n",
    "plt.hist(x_2017, density=True, color='blue', bins=np.arange(0, 35), alpha=.5) \n",
    "plt.ylabel('Distribution')\n",
    "plt.title('2017 Unemployment Rates')\n",
    "\n",
    "plt.subplot(1, 2, 2)\n",
    "plt.hist(x_2018, density=True, color='red', bins=np.arange(0, 35), alpha=.5)\n",
    "plt.ylabel('Distribution')\n",
    "plt.title('2018 Unemployment Rates')\n",
    "\n",
    "plt.tight_layout()\n",
    "plt.show()"
   ]
  },
  {
   "cell_type": "code",
   "execution_count": 23,
   "metadata": {},
   "outputs": [
    {
     "data": {
      "text/plain": [
       "0      NaN\n",
       "1   -0.017\n",
       "2    0.114\n",
       "3    0.148\n",
       "4      NaN\n",
       "dtype: float64"
      ]
     },
     "execution_count": 23,
     "metadata": {},
     "output_type": "execute_result"
    }
   ],
   "source": [
    "(x_2018 - x_2017).head()"
   ]
  },
  {
   "cell_type": "code",
   "execution_count": 24,
   "metadata": {},
   "outputs": [],
   "source": [
    "diff_x = 10*((x_2018) - (x_2017))"
   ]
  },
  {
   "cell_type": "code",
   "execution_count": 25,
   "metadata": {},
   "outputs": [
    {
     "data": {
      "image/png": "[encoded data removed]",
      "text/plain": [
       "<Figure size 1800x720 with 1 Axes>"
      ]
     },
     "metadata": {
      "needs_background": "light"
     },
     "output_type": "display_data"
    }
   ],
   "source": [
    "plt.figure(figsize=(25, 10))\n",
    "\n",
    "plt.hist(diff_x, density=True, color='blue', bins=np.arange(-30, 30), alpha=.5) \n",
    "plt.title('histogram style')\n",
    "plt.xlabel('% Change in Unemployment Rates')\n",
    "\n",
    "plt.show()"
   ]
  },
  {
   "cell_type": "code",
   "execution_count": 26,
   "metadata": {},
   "outputs": [
    {
     "data": {
      "text/html": [
       "<div>\n",
       "<style scoped>\n",
       "    .dataframe tbody tr th:only-of-type {\n",
       "        vertical-align: middle;\n",
       "    }\n",
       "\n",
       "    .dataframe tbody tr th {\n",
       "        vertical-align: top;\n",
       "    }\n",
       "\n",
       "    .dataframe thead th {\n",
       "        text-align: right;\n",
       "    }\n",
       "</style>\n",
       "<table border=\"1\" class=\"dataframe\">\n",
       "  <thead>\n",
       "    <tr style=\"text-align: right;\">\n",
       "      <th></th>\n",
       "      <th>1999</th>\n",
       "      <th>2000</th>\n",
       "      <th>2001</th>\n",
       "      <th>2002</th>\n",
       "      <th>2003</th>\n",
       "      <th>2004</th>\n",
       "      <th>2005</th>\n",
       "      <th>2006</th>\n",
       "      <th>2007</th>\n",
       "      <th>2008</th>\n",
       "      <th>2009</th>\n",
       "      <th>2010</th>\n",
       "      <th>2011</th>\n",
       "      <th>2012</th>\n",
       "      <th>2013</th>\n",
       "      <th>2014</th>\n",
       "      <th>2015</th>\n",
       "      <th>2016</th>\n",
       "      <th>2017</th>\n",
       "    </tr>\n",
       "  </thead>\n",
       "  <tbody>\n",
       "    <tr>\n",
       "      <th>259</th>\n",
       "      <td>NaN</td>\n",
       "      <td>NaN</td>\n",
       "      <td>NaN</td>\n",
       "      <td>NaN</td>\n",
       "      <td>NaN</td>\n",
       "      <td>NaN</td>\n",
       "      <td>NaN</td>\n",
       "      <td>NaN</td>\n",
       "      <td>NaN</td>\n",
       "      <td>NaN</td>\n",
       "      <td>NaN</td>\n",
       "      <td>NaN</td>\n",
       "      <td>NaN</td>\n",
       "      <td>NaN</td>\n",
       "      <td>NaN</td>\n",
       "      <td>NaN</td>\n",
       "      <td>NaN</td>\n",
       "      <td>NaN</td>\n",
       "      <td>NaN</td>\n",
       "    </tr>\n",
       "    <tr>\n",
       "      <th>260</th>\n",
       "      <td>11.460</td>\n",
       "      <td>11.441</td>\n",
       "      <td>11.591</td>\n",
       "      <td>11.923</td>\n",
       "      <td>11.914000</td>\n",
       "      <td>11.867</td>\n",
       "      <td>11.799</td>\n",
       "      <td>11.606</td>\n",
       "      <td>11.338</td>\n",
       "      <td>11.343000</td>\n",
       "      <td>12.513</td>\n",
       "      <td>12.905000</td>\n",
       "      <td>13.058</td>\n",
       "      <td>13.252</td>\n",
       "      <td>13.507</td>\n",
       "      <td>13.467000</td>\n",
       "      <td>14.023</td>\n",
       "      <td>13.524000</td>\n",
       "      <td>13.175</td>\n",
       "    </tr>\n",
       "    <tr>\n",
       "      <th>261</th>\n",
       "      <td>30.202</td>\n",
       "      <td>30.229</td>\n",
       "      <td>30.896</td>\n",
       "      <td>33.473</td>\n",
       "      <td>32.456001</td>\n",
       "      <td>29.576</td>\n",
       "      <td>29.253</td>\n",
       "      <td>28.489</td>\n",
       "      <td>26.666</td>\n",
       "      <td>22.433001</td>\n",
       "      <td>23.538</td>\n",
       "      <td>24.693001</td>\n",
       "      <td>24.653</td>\n",
       "      <td>24.732</td>\n",
       "      <td>24.569</td>\n",
       "      <td>24.898001</td>\n",
       "      <td>25.156</td>\n",
       "      <td>26.551001</td>\n",
       "      <td>27.327</td>\n",
       "    </tr>\n",
       "    <tr>\n",
       "      <th>262</th>\n",
       "      <td>12.663</td>\n",
       "      <td>12.930</td>\n",
       "      <td>13.810</td>\n",
       "      <td>14.491</td>\n",
       "      <td>14.825000</td>\n",
       "      <td>15.265</td>\n",
       "      <td>15.900</td>\n",
       "      <td>12.500</td>\n",
       "      <td>9.987</td>\n",
       "      <td>7.930000</td>\n",
       "      <td>10.623</td>\n",
       "      <td>13.190000</td>\n",
       "      <td>10.200</td>\n",
       "      <td>7.850</td>\n",
       "      <td>7.801</td>\n",
       "      <td>7.707000</td>\n",
       "      <td>7.446</td>\n",
       "      <td>7.372000</td>\n",
       "      <td>7.206</td>\n",
       "    </tr>\n",
       "    <tr>\n",
       "      <th>263</th>\n",
       "      <td>6.000</td>\n",
       "      <td>5.703</td>\n",
       "      <td>5.405</td>\n",
       "      <td>5.241</td>\n",
       "      <td>4.867000</td>\n",
       "      <td>4.390</td>\n",
       "      <td>4.284</td>\n",
       "      <td>4.067</td>\n",
       "      <td>4.161</td>\n",
       "      <td>4.450000</td>\n",
       "      <td>5.034</td>\n",
       "      <td>5.122000</td>\n",
       "      <td>5.368</td>\n",
       "      <td>5.608</td>\n",
       "      <td>5.623</td>\n",
       "      <td>5.518000</td>\n",
       "      <td>5.438</td>\n",
       "      <td>5.239000</td>\n",
       "      <td>4.943</td>\n",
       "    </tr>\n",
       "  </tbody>\n",
       "</table>\n",
       "</div>"
      ],
      "text/plain": [
       "       1999    2000    2001    2002       2003    2004    2005    2006  \\\n",
       "259     NaN     NaN     NaN     NaN        NaN     NaN     NaN     NaN   \n",
       "260  11.460  11.441  11.591  11.923  11.914000  11.867  11.799  11.606   \n",
       "261  30.202  30.229  30.896  33.473  32.456001  29.576  29.253  28.489   \n",
       "262  12.663  12.930  13.810  14.491  14.825000  15.265  15.900  12.500   \n",
       "263   6.000   5.703   5.405   5.241   4.867000   4.390   4.284   4.067   \n",
       "\n",
       "       2007       2008    2009       2010    2011    2012    2013       2014  \\\n",
       "259     NaN        NaN     NaN        NaN     NaN     NaN     NaN        NaN   \n",
       "260  11.338  11.343000  12.513  12.905000  13.058  13.252  13.507  13.467000   \n",
       "261  26.666  22.433001  23.538  24.693001  24.653  24.732  24.569  24.898001   \n",
       "262   9.987   7.930000  10.623  13.190000  10.200   7.850   7.801   7.707000   \n",
       "263   4.161   4.450000   5.034   5.122000   5.368   5.608   5.623   5.518000   \n",
       "\n",
       "       2015       2016    2017  \n",
       "259     NaN        NaN     NaN  \n",
       "260  14.023  13.524000  13.175  \n",
       "261  25.156  26.551001  27.327  \n",
       "262   7.446   7.372000   7.206  \n",
       "263   5.438   5.239000   4.943  "
      ]
     },
     "execution_count": 26,
     "metadata": {},
     "output_type": "execute_result"
    }
   ],
   "source": [
    "df1.iloc[:, 4:23].tail()"
   ]
  },
  {
   "cell_type": "code",
   "execution_count": 27,
   "metadata": {},
   "outputs": [
    {
     "data": {
      "text/plain": [
       "6.9981286474935605"
      ]
     },
     "execution_count": 27,
     "metadata": {},
     "output_type": "execute_result"
    }
   ],
   "source": [
    "x_2018.mean()\n",
    "\n"
   ]
  },
  {
   "cell_type": "code",
   "execution_count": 31,
   "metadata": {},
   "outputs": [
    {
     "data": {
      "text/html": [
       "<div>\n",
       "<style scoped>\n",
       "    .dataframe tbody tr th:only-of-type {\n",
       "        vertical-align: middle;\n",
       "    }\n",
       "\n",
       "    .dataframe tbody tr th {\n",
       "        vertical-align: top;\n",
       "    }\n",
       "\n",
       "    .dataframe thead th {\n",
       "        text-align: right;\n",
       "    }\n",
       "</style>\n",
       "<table border=\"1\" class=\"dataframe\">\n",
       "  <thead>\n",
       "    <tr style=\"text-align: right;\">\n",
       "      <th></th>\n",
       "      <th>Country Name</th>\n",
       "      <th>Country Code</th>\n",
       "      <th>Indicator Name</th>\n",
       "      <th>Indicator Code</th>\n",
       "      <th>1999</th>\n",
       "      <th>2000</th>\n",
       "      <th>2001</th>\n",
       "      <th>2002</th>\n",
       "      <th>2003</th>\n",
       "      <th>2004</th>\n",
       "      <th>...</th>\n",
       "      <th>2009</th>\n",
       "      <th>2010</th>\n",
       "      <th>2011</th>\n",
       "      <th>2012</th>\n",
       "      <th>2013</th>\n",
       "      <th>2014</th>\n",
       "      <th>2015</th>\n",
       "      <th>2016</th>\n",
       "      <th>2017</th>\n",
       "      <th>2018</th>\n",
       "    </tr>\n",
       "  </thead>\n",
       "  <tbody>\n",
       "    <tr>\n",
       "      <th>1</th>\n",
       "      <td>Afghanistan</td>\n",
       "      <td>AFG</td>\n",
       "      <td>Unemployment, total (% of total labor force) (...</td>\n",
       "      <td>SL.UEM.TOTL.ZS</td>\n",
       "      <td>3.606000</td>\n",
       "      <td>3.517000</td>\n",
       "      <td>3.426000</td>\n",
       "      <td>3.550000</td>\n",
       "      <td>3.419000</td>\n",
       "      <td>3.087000</td>\n",
       "      <td>...</td>\n",
       "      <td>2.470000</td>\n",
       "      <td>2.27500</td>\n",
       "      <td>1.984000</td>\n",
       "      <td>1.692000</td>\n",
       "      <td>1.725000</td>\n",
       "      <td>1.735000</td>\n",
       "      <td>1.679000</td>\n",
       "      <td>1.634</td>\n",
       "      <td>1.559000</td>\n",
       "      <td>1.542000</td>\n",
       "    </tr>\n",
       "    <tr>\n",
       "      <th>2</th>\n",
       "      <td>Angola</td>\n",
       "      <td>AGO</td>\n",
       "      <td>Unemployment, total (% of total labor force) (...</td>\n",
       "      <td>SL.UEM.TOTL.ZS</td>\n",
       "      <td>20.896999</td>\n",
       "      <td>22.885000</td>\n",
       "      <td>23.115000</td>\n",
       "      <td>23.896000</td>\n",
       "      <td>23.924999</td>\n",
       "      <td>23.643000</td>\n",
       "      <td>...</td>\n",
       "      <td>10.609000</td>\n",
       "      <td>9.08900</td>\n",
       "      <td>7.362000</td>\n",
       "      <td>7.359000</td>\n",
       "      <td>7.454000</td>\n",
       "      <td>7.429000</td>\n",
       "      <td>7.279000</td>\n",
       "      <td>7.281</td>\n",
       "      <td>7.139000</td>\n",
       "      <td>7.253000</td>\n",
       "    </tr>\n",
       "    <tr>\n",
       "      <th>3</th>\n",
       "      <td>Albania</td>\n",
       "      <td>ALB</td>\n",
       "      <td>Unemployment, total (% of total labor force) (...</td>\n",
       "      <td>SL.UEM.TOTL.ZS</td>\n",
       "      <td>18.569000</td>\n",
       "      <td>17.767000</td>\n",
       "      <td>17.410999</td>\n",
       "      <td>17.510000</td>\n",
       "      <td>17.496000</td>\n",
       "      <td>17.271999</td>\n",
       "      <td>...</td>\n",
       "      <td>13.674000</td>\n",
       "      <td>14.08600</td>\n",
       "      <td>13.481000</td>\n",
       "      <td>13.376000</td>\n",
       "      <td>15.866000</td>\n",
       "      <td>17.490000</td>\n",
       "      <td>17.080000</td>\n",
       "      <td>15.220</td>\n",
       "      <td>13.750000</td>\n",
       "      <td>13.898000</td>\n",
       "    </tr>\n",
       "    <tr>\n",
       "      <th>5</th>\n",
       "      <td>Arab World</td>\n",
       "      <td>ARB</td>\n",
       "      <td>Unemployment, total (% of total labor force) (...</td>\n",
       "      <td>SL.UEM.TOTL.ZS</td>\n",
       "      <td>12.336545</td>\n",
       "      <td>12.752606</td>\n",
       "      <td>12.551694</td>\n",
       "      <td>12.590725</td>\n",
       "      <td>12.503539</td>\n",
       "      <td>11.491024</td>\n",
       "      <td>...</td>\n",
       "      <td>9.259066</td>\n",
       "      <td>9.17818</td>\n",
       "      <td>10.037677</td>\n",
       "      <td>10.233833</td>\n",
       "      <td>10.219504</td>\n",
       "      <td>10.218629</td>\n",
       "      <td>10.220711</td>\n",
       "      <td>9.967</td>\n",
       "      <td>9.956021</td>\n",
       "      <td>9.942483</td>\n",
       "    </tr>\n",
       "    <tr>\n",
       "      <th>6</th>\n",
       "      <td>United Arab Emirates</td>\n",
       "      <td>ARE</td>\n",
       "      <td>Unemployment, total (% of total labor force) (...</td>\n",
       "      <td>SL.UEM.TOTL.ZS</td>\n",
       "      <td>2.175000</td>\n",
       "      <td>2.250000</td>\n",
       "      <td>2.403000</td>\n",
       "      <td>2.640000</td>\n",
       "      <td>2.867000</td>\n",
       "      <td>3.034000</td>\n",
       "      <td>...</td>\n",
       "      <td>2.699000</td>\n",
       "      <td>2.66300</td>\n",
       "      <td>2.494000</td>\n",
       "      <td>2.409000</td>\n",
       "      <td>2.292000</td>\n",
       "      <td>2.061000</td>\n",
       "      <td>1.836000</td>\n",
       "      <td>1.636</td>\n",
       "      <td>2.463000</td>\n",
       "      <td>2.575000</td>\n",
       "    </tr>\n",
       "  </tbody>\n",
       "</table>\n",
       "<p>5 rows × 24 columns</p>\n",
       "</div>"
      ],
      "text/plain": [
       "           Country Name Country Code  \\\n",
       "1           Afghanistan          AFG   \n",
       "2                Angola          AGO   \n",
       "3               Albania          ALB   \n",
       "5            Arab World          ARB   \n",
       "6  United Arab Emirates          ARE   \n",
       "\n",
       "                                      Indicator Name  Indicator Code  \\\n",
       "1  Unemployment, total (% of total labor force) (...  SL.UEM.TOTL.ZS   \n",
       "2  Unemployment, total (% of total labor force) (...  SL.UEM.TOTL.ZS   \n",
       "3  Unemployment, total (% of total labor force) (...  SL.UEM.TOTL.ZS   \n",
       "5  Unemployment, total (% of total labor force) (...  SL.UEM.TOTL.ZS   \n",
       "6  Unemployment, total (% of total labor force) (...  SL.UEM.TOTL.ZS   \n",
       "\n",
       "        1999       2000       2001       2002       2003       2004  ...  \\\n",
       "1   3.606000   3.517000   3.426000   3.550000   3.419000   3.087000  ...   \n",
       "2  20.896999  22.885000  23.115000  23.896000  23.924999  23.643000  ...   \n",
       "3  18.569000  17.767000  17.410999  17.510000  17.496000  17.271999  ...   \n",
       "5  12.336545  12.752606  12.551694  12.590725  12.503539  11.491024  ...   \n",
       "6   2.175000   2.250000   2.403000   2.640000   2.867000   3.034000  ...   \n",
       "\n",
       "        2009      2010       2011       2012       2013       2014       2015  \\\n",
       "1   2.470000   2.27500   1.984000   1.692000   1.725000   1.735000   1.679000   \n",
       "2  10.609000   9.08900   7.362000   7.359000   7.454000   7.429000   7.279000   \n",
       "3  13.674000  14.08600  13.481000  13.376000  15.866000  17.490000  17.080000   \n",
       "5   9.259066   9.17818  10.037677  10.233833  10.219504  10.218629  10.220711   \n",
       "6   2.699000   2.66300   2.494000   2.409000   2.292000   2.061000   1.836000   \n",
       "\n",
       "     2016       2017       2018  \n",
       "1   1.634   1.559000   1.542000  \n",
       "2   7.281   7.139000   7.253000  \n",
       "3  15.220  13.750000  13.898000  \n",
       "5   9.967   9.956021   9.942483  \n",
       "6   1.636   2.463000   2.575000  \n",
       "\n",
       "[5 rows x 24 columns]"
      ]
     },
     "execution_count": 31,
     "metadata": {},
     "output_type": "execute_result"
    }
   ],
   "source": [
    "df1.dropna(inplace=True)\n",
    "df1.head()"
   ]
  },
  {
   "cell_type": "code",
   "execution_count": 32,
   "metadata": {},
   "outputs": [
    {
     "data": {
      "image/png": "[encoded data removed]",
      "text/plain": [
       "<Figure size 432x288 with 1 Axes>"
      ]
     },
     "metadata": {
      "needs_background": "light"
     },
     "output_type": "display_data"
    }
   ],
   "source": [
    "plt.boxplot(df1['2011'])\n",
    "plt.show()"
   ]
  },
  {
   "cell_type": "code",
   "execution_count": 33,
   "metadata": {},
   "outputs": [
    {
     "data": {
      "image/png": "[encoded data removed]",
      "text/plain": [
       "<Figure size 432x288 with 1 Axes>"
      ]
     },
     "metadata": {
      "needs_background": "light"
     },
     "output_type": "display_data"
    }
   ],
   "source": [
    "plt.scatter(x=df1['2017'],y=df1['2018'])\n",
    "plt.show()"
   ]
  },
  {
   "cell_type": "code",
   "execution_count": null,
   "metadata": {},
   "outputs": [],
   "source": []
  }
 ],
 "metadata": {
  "kernelspec": {
   "display_name": "Python 3",
   "language": "python",
   "name": "python3"
  },
  "language_info": {
   "codemirror_mode": {
    "name": "ipython",
    "version": 3
   },
   "file_extension": ".py",
   "mimetype": "text/x-python",
   "name": "python",
   "nbconvert_exporter": "python",
   "pygments_lexer": "ipython3",
   "version": "3.7.3"
  }
 },
 "nbformat": 4,
 "nbformat_minor": 2
}
