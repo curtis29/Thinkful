{
 "cells": [
  {
   "cell_type": "code",
   "execution_count": null,
   "metadata": {},
   "outputs": [],
   "source": [
    "#Thinkful - Logic Drills: Traffic light\n",
    "\n",
    "def update_light(current):\n",
    "    if current == 'green':\n",
    "        return 'yellow'\n",
    "    elif current == 'yellow':\n",
    "        return 'red'\n",
    "    else:\n",
    "        return 'green'"
   ]
  },
  {
   "cell_type": "code",
   "execution_count": null,
   "metadata": {},
   "outputs": [],
   "source": [
    "#Thinkful - Logic Drills: Umbrella decider\n",
    "\n",
    "def take_umbrella(weather, rain_chance):\n",
    "     a = (weather == 'rainy') \n",
    "     b = ((weather == 'cloudy') and (rain_chance > 0.20))\n",
    "     c = (rain_chance > 0.50)\n",
    "     \n",
    "     return(a or b or c)"
   ]
  },
  {
   "cell_type": "code",
   "execution_count": null,
   "metadata": {},
   "outputs": [],
   "source": [
    "#Thinkful - Logic Drills: Graceful addition\n",
    "\n",
    "def my_add(a, b):\n",
    "    try:\n",
    "        type(a+b) == int or float\n",
    "        return a+b\n",
    "    except:\n",
    "        return None"
   ]
  },
  {
   "cell_type": "code",
   "execution_count": null,
   "metadata": {},
   "outputs": [],
   "source": [
    "#Thinkful - Logic Drills: Red and bumpy\n",
    "\n",
    "def color_probability(color, texture):\n",
    "    if texture == 'bumpy':\n",
    "        if color == 'red':\n",
    "            cp = 4/7\n",
    "        elif color == 'yellow':\n",
    "            cp = 2/7\n",
    "        else:\n",
    "            cp = 1/7\n",
    "    else:\n",
    "        if color == 'red':\n",
    "            cp = 1/3\n",
    "        elif color == 'yellow':\n",
    "            cp = 1/3\n",
    "        else:\n",
    "            cp = 1/3\n",
    "        \n",
    "    return str(cp)[:4]  "
   ]
  },
  {
   "cell_type": "code",
   "execution_count": null,
   "metadata": {},
   "outputs": [],
   "source": [
    "#Thinkful - Logic Drills: Hacking p-hackers\n",
    "\n",
    "def categorize_study(p_value, requirements):\n",
    "    bs_factor = 2 ** (6 - requirements)\n",
    "    product = p_value * bs_factor\n",
    "    \n",
    "    if product < 0.05:\n",
    "        result = \"Fine\"\n",
    "    elif product < 0.15:\n",
    "        result = \"Needs review\"\n",
    "    else:\n",
    "        result = \"Pants on fire\"\n",
    "    \n",
    "    if requirements == 0 and result == \"Fine\":\n",
    "        result = \"Needs review\"\n",
    "        \n",
    "    return result"
   ]
  }
 ],
 "metadata": {
  "kernelspec": {
   "display_name": "Python 3",
   "language": "python",
   "name": "python3"
  },
  "language_info": {
   "codemirror_mode": {
    "name": "ipython",
    "version": 3
   },
   "file_extension": ".py",
   "mimetype": "text/x-python",
   "name": "python",
   "nbconvert_exporter": "python",
   "pygments_lexer": "ipython3",
   "version": "3.7.3"
  }
 },
 "nbformat": 4,
 "nbformat_minor": 2
}
