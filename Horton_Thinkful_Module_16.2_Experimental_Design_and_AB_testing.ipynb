{
 "cells": [
  {
   "cell_type": "markdown",
   "metadata": {},
   "source": [
    "**Assignment**\n",
    "\n",
    "For each of the following questions, outline how you could use an A/B test to find an answer. Be sure to identify all _five key components of an A/B test_ we outlined above, which are:\n",
    "\n",
    "- Two versions of something whose effects will be compared\n",
    "- A Sample\n",
    "- A Hypothesis\n",
    "- Outcome(s) of interest\n",
    "- Other measured variables (secondary outcomes)\n",
    "\n",
    "1. Does a new supplement help people sleep better?\n",
    "2. Will new uniforms help a gym's business?\n",
    "3. Will a new homepage improve my online exotic pet rental business?\n",
    "4. If I put 'please read' in the email subject will more people read my emails?"
   ]
  },
  {
   "cell_type": "markdown",
   "metadata": {},
   "source": [
    "1. Does a new supplement help people sleep better?\n",
    "\n",
    "- Two versions of something whose effects will be compared\n",
    "\n",
    "  _Control Group_: people who don't take the supplement in question\n",
    "  _Test Group_: people who take the new supplement for better sleep\n",
    "  \n",
    "- A Sample\n",
    "\n",
    "  Randomly provide supplements to 2 similar groups of people (e.g., age, gender, country location) - Control group gets a placebo while test group gets the supplement\n",
    "  \n",
    "- A Hypothesis\n",
    "\n",
    "  we expect the supplement to help people fall asleep quicker and stay asleep longer\n",
    "  \n",
    "- Outcome(s) of interest\n",
    "\n",
    "  we track how quickly people fall asleep, and how many times they get up or move during sleep\n",
    "  \n",
    "- Other measured variables (secondary outcomes)\n",
    "\n",
    "  people sleep more in hours\n",
    "  people have more REM stage sleep\n",
    "  "
   ]
  },
  {
   "cell_type": "markdown",
   "metadata": {},
   "source": [
    "2. Will new uniforms help a gym's business?\n",
    "\n",
    "- Two versions of something whose effects will be compared\n",
    "\n",
    "  _Control Group_: people who wear regular old uniforms\n",
    "  _Test Group_: people who wear new uniforms\n",
    "  \n",
    "- A Sample\n",
    "\n",
    "  For similar periods of year (about 2 weeks each), ensure all gym staff on duty wear same uniform (either regular or new uniforms\n",
    "  \n",
    "- A Hypothesis\n",
    "\n",
    "  we expect the new uniforms to improve the gym's business\n",
    "  \n",
    "- Outcome(s) of interest\n",
    "\n",
    "  we track the number of customers and recurring signups attending the gym for a defined time period after the test periods\n",
    "  \n",
    "- Other measured variables (secondary outcomes)\n",
    "\n",
    "  N/A\n",
    "  "
   ]
  },
  {
   "cell_type": "markdown",
   "metadata": {},
   "source": [
    "3. Will a new homepage improve my online exotic pet rental business?\n",
    "\n",
    "- Two versions of something whose effects will be compared\n",
    "\n",
    "  _Control Group_: current website with no changes\n",
    "  _Test Group_: updated website with new images and animation\n",
    "  \n",
    "- A Sample\n",
    "\n",
    "  Have both homepages up and running concurrently, but alternate between which site each visitor actually sees\n",
    "  \n",
    "- A Hypothesis\n",
    "\n",
    "  we expect the updated homepage to draw more interest, and have more click-thru's\n",
    "  \n",
    "- Outcome(s) of interest\n",
    "\n",
    "  we track the clicks per visit for each homepage\n",
    "  \n",
    "- Other measured variables (secondary outcomes)\n",
    "\n",
    "  we can also try to measure clicks per time-of-day, and most and least popular links on both homepages\n",
    "  "
   ]
  },
  {
   "cell_type": "markdown",
   "metadata": {},
   "source": [
    "4. If I put 'please read' in the email subject will more people read my emails?\n",
    "\n",
    "- Two versions of something whose effects will be compared\n",
    "\n",
    "  _Control Group_: regular email with usual subject\n",
    "  _Test Group_: same email with subject including 'please read'\n",
    "  \n",
    "- A Sample\n",
    "\n",
    "  Divide mailing list randomly into 2 identical groups based on age and gender and other characteristics (e.g., job title, dept)\n",
    "  \n",
    "- A Hypothesis\n",
    "\n",
    "  we expect the 'please read' email to be opened and read more than the other email\n",
    "  \n",
    "- Outcome(s) of interest\n",
    "\n",
    "  we use the read receipts to track how many emails are opened and how quickly\n",
    "  \n",
    "- Other measured variables (secondary outcomes)\n",
    "\n",
    "  we can also measure the difference in email reads across job seniority, or job function\n",
    "  "
   ]
  }
 ],
 "metadata": {
  "kernelspec": {
   "display_name": "Python 3",
   "language": "python",
   "name": "python3"
  },
  "language_info": {
   "codemirror_mode": {
    "name": "ipython",
    "version": 3
   },
   "file_extension": ".py",
   "mimetype": "text/x-python",
   "name": "python",
   "nbconvert_exporter": "python",
   "pygments_lexer": "ipython3",
   "version": "3.7.3"
  }
 },
 "nbformat": 4,
 "nbformat_minor": 2
}
