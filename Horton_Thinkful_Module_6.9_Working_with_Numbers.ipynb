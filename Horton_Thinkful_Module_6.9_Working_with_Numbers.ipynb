{
 "cells": [
  {
   "cell_type": "markdown",
   "metadata": {},
   "source": [
    "1. Romer Temperature"
   ]
  },
  {
   "cell_type": "code",
   "execution_count": 1,
   "metadata": {},
   "outputs": [],
   "source": [
    "def celsius_to_romer(temp):\n",
    "    # [°Rø] = [°C] × ​21⁄40 + 7.5\n",
    "    \n",
    "    return(temp * 21/40) + 7.5"
   ]
  },
  {
   "cell_type": "markdown",
   "metadata": {},
   "source": [
    "2. Pixelart Planning"
   ]
  },
  {
   "cell_type": "code",
   "execution_count": 2,
   "metadata": {},
   "outputs": [],
   "source": [
    "def is_divisible(wall_length, pixel_size):\n",
    "    return wall_length % pixel_size == 0"
   ]
  },
  {
   "cell_type": "markdown",
   "metadata": {},
   "source": [
    "3. Blue and Red Marbles"
   ]
  },
  {
   "cell_type": "code",
   "execution_count": 3,
   "metadata": {},
   "outputs": [],
   "source": [
    "def guess_blue(blue_start, red_start, blue_pulled, red_pulled):\n",
    "    return (blue_start - blue_pulled)/((blue_start + red_start) - (blue_pulled + red_pulled))"
   ]
  },
  {
   "cell_type": "markdown",
   "metadata": {},
   "source": [
    "4. Congo pizza"
   ]
  },
  {
   "cell_type": "code",
   "execution_count": 4,
   "metadata": {},
   "outputs": [],
   "source": [
    "def box_capacity(length, width, height):\n",
    "    boxes_long = length * 12 // 16\n",
    "    boxes_wide = width * 12 // 16\n",
    "    boxes_high = height * 12 // 16\n",
    "    \n",
    "    return boxes_long * boxes_wide * boxes_high"
   ]
  },
  {
   "cell_type": "markdown",
   "metadata": {},
   "source": [
    "5. Quadratic Formula"
   ]
  },
  {
   "cell_type": "code",
   "execution_count": 5,
   "metadata": {},
   "outputs": [],
   "source": [
    "def quadratic_formula(a, b, c):\n",
    "\n",
    "    root_of_square = ((b ** 2) - 4 * a * c) ** .5\n",
    "    \n",
    "    root1 = (-b + root_of_square) / (2 * a)\n",
    "    root2 = (-b - root_of_square) / (2 * a)\n",
    "    \n",
    "    return [root1, root2]"
   ]
  },
  {
   "cell_type": "code",
   "execution_count": null,
   "metadata": {},
   "outputs": [],
   "source": []
  }
 ],
 "metadata": {
  "kernelspec": {
   "display_name": "Python 3",
   "language": "python",
   "name": "python3"
  },
  "language_info": {
   "codemirror_mode": {
    "name": "ipython",
    "version": 3
   },
   "file_extension": ".py",
   "mimetype": "text/x-python",
   "name": "python",
   "nbconvert_exporter": "python",
   "pygments_lexer": "ipython3",
   "version": "3.7.3"
  }
 },
 "nbformat": 4,
 "nbformat_minor": 2
}
