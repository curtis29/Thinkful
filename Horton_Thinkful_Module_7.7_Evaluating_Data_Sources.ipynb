{
 "cells": [
  {
   "cell_type": "markdown",
   "metadata": {},
   "source": [
    "**Drill\n",
    "\n",
    "In each of the scenarios, find possible shortcomings of the theoretical or actual data sources to answer the given question. What could be done to either adjust the analysis or reframe the question so that you can answer it accurately?\n"
   ]
  },
  {
   "cell_type": "markdown",
   "metadata": {},
   "source": [
    "Theoretical Data Source: Amsterdam availability data scraped from AirBnB on December 24th.\n",
    "\n",
    "Question: What are the popular neighborhoods in Amsterdam?\n",
    "\n",
    "Shortcomings:\n",
    "Exceptional circumstance of only using Xmas eve\n",
    "Bias of only using AirBnB data\n",
    "\n",
    "Adjustments:\n",
    "Limit conclusion to scope of AirBnB customers\n",
    "Try to impute larger trends across other cities on xmas eve"
   ]
  },
  {
   "cell_type": "markdown",
   "metadata": {},
   "source": [
    "Theoretical Data Source: Mental health services use on September 12, 2001 in San Francisco, CA and New York City, NY.\n",
    "\n",
    "Question: How do patterns of mental health service use vary between cities?\n",
    "\n",
    "Shortcomings:\n",
    "Exceptional circumstance of regional catastrophic event in NY (and not San Francisco).\n",
    "Exceptional circumstance of using date of catastrophic event.\n",
    "Use of mental health services is subjective, and dependent on whether people come forward for services or not.\n",
    "\n",
    "Adjustments:\n",
    "Use other data not occurring on tragic events\n",
    "Use various other cities in other regions and of different sizes"
   ]
  },
  {
   "cell_type": "markdown",
   "metadata": {},
   "source": [
    "Actual Data Source: Armenian Pub Survey.\n",
    "\n",
    "Question: What are the most common reasons Armenians visit local pubs?\n",
    "\n",
    "Shortcomings:\n",
    "Assumption that only Armenians answered the survey\n",
    "Assumption that all Armenians were surveyed in visiting all Armenian pubs\n",
    "Regional differences in Armenian pubs and visitors\n",
    "\n",
    "Adjustments:\n",
    "Specify and categorize the survey respondents to confirm their ethnicity\n",
    "Categorize Armenian pubs by region, size, menu\n"
   ]
  }
 ],
 "metadata": {
  "kernelspec": {
   "display_name": "Python 3",
   "language": "python",
   "name": "python3"
  },
  "language_info": {
   "codemirror_mode": {
    "name": "ipython",
    "version": 3
   },
   "file_extension": ".py",
   "mimetype": "text/x-python",
   "name": "python",
   "nbconvert_exporter": "python",
   "pygments_lexer": "ipython3",
   "version": "3.7.3"
  }
 },
 "nbformat": 4,
 "nbformat_minor": 2
}
